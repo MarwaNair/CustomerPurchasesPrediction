{
  "cells": [
    {
      "cell_type": "markdown",
      "source": [
        "# **Installations & imports**"
      ],
      "metadata": {
        "id": "ssroMBk4KarW"
      }
    },
    {
      "cell_type": "code",
      "execution_count": 1,
      "metadata": {
        "colab": {
          "base_uri": "https://localhost:8080/"
        },
        "id": "HBfHgTwYaVk8",
        "outputId": "29908a3e-cb78-4350-fbc7-f48fa800b405"
      },
      "outputs": [
        {
          "output_type": "stream",
          "name": "stdout",
          "text": [
            "Looking in indexes: https://pypi.org/simple, https://us-python.pkg.dev/colab-wheels/public/simple/\n",
            "Requirement already satisfied: kaggle in /usr/local/lib/python3.8/dist-packages (1.5.12)\n",
            "Requirement already satisfied: six>=1.10 in /usr/local/lib/python3.8/dist-packages (from kaggle) (1.15.0)\n",
            "Requirement already satisfied: python-slugify in /usr/local/lib/python3.8/dist-packages (from kaggle) (8.0.0)\n",
            "Requirement already satisfied: requests in /usr/local/lib/python3.8/dist-packages (from kaggle) (2.25.1)\n",
            "Requirement already satisfied: python-dateutil in /usr/local/lib/python3.8/dist-packages (from kaggle) (2.8.2)\n",
            "Requirement already satisfied: urllib3 in /usr/local/lib/python3.8/dist-packages (from kaggle) (1.24.3)\n",
            "Requirement already satisfied: certifi in /usr/local/lib/python3.8/dist-packages (from kaggle) (2022.12.7)\n",
            "Requirement already satisfied: tqdm in /usr/local/lib/python3.8/dist-packages (from kaggle) (4.64.1)\n",
            "Requirement already satisfied: text-unidecode>=1.3 in /usr/local/lib/python3.8/dist-packages (from python-slugify->kaggle) (1.3)\n",
            "Requirement already satisfied: chardet<5,>=3.0.2 in /usr/local/lib/python3.8/dist-packages (from requests->kaggle) (4.0.0)\n",
            "Requirement already satisfied: idna<3,>=2.5 in /usr/local/lib/python3.8/dist-packages (from requests->kaggle) (2.10)\n"
          ]
        }
      ],
      "source": [
        "!pip install kaggle"
      ]
    },
    {
      "cell_type": "code",
      "execution_count": 2,
      "metadata": {
        "id": "RVpBLFGGauS8"
      },
      "outputs": [],
      "source": [
        "import os \n",
        "os.environ['KAGGLE_USERNAME'] = \"sarrabendaho\"\n",
        "os.environ['KAGGLE_KEY'] = \"21d2fd8f032a7f87c75532412395faf4\""
      ]
    },
    {
      "cell_type": "code",
      "execution_count": 3,
      "metadata": {
        "colab": {
          "base_uri": "https://localhost:8080/"
        },
        "id": "fPYn_3EkbA4y",
        "outputId": "9aaefebb-a3e9-45cf-fd47-d44a3231c493"
      },
      "outputs": [
        {
          "output_type": "stream",
          "name": "stdout",
          "text": [
            "Downloading jumia-purchase-prediction.zip to /content\n",
            "\r  0% 0.00/518k [00:00<?, ?B/s]\n",
            "\r100% 518k/518k [00:00<00:00, 69.1MB/s]\n"
          ]
        }
      ],
      "source": [
        "!kaggle competitions download -c jumia-purchase-prediction"
      ]
    },
    {
      "cell_type": "code",
      "execution_count": 4,
      "metadata": {
        "colab": {
          "base_uri": "https://localhost:8080/"
        },
        "id": "jwQubAupbINc",
        "outputId": "6d703f41-644b-4b85-a43a-06b3ebbbcbab"
      },
      "outputs": [
        {
          "output_type": "stream",
          "name": "stdout",
          "text": [
            "Archive:  /content/jumia-purchase-prediction.zip\n",
            "  inflating: jum_test.csv            \n",
            "  inflating: jum_train.csv           \n",
            "  inflating: sample_submission.csv   \n"
          ]
        }
      ],
      "source": [
        "!unzip /content/jumia-purchase-prediction.zip"
      ]
    },
    {
      "cell_type": "code",
      "execution_count": 5,
      "metadata": {
        "id": "X14G3BIrbUNU"
      },
      "outputs": [],
      "source": [
        "import numpy as np # linear algebra\n",
        "import pandas as pd # data processing, CSV file I/O (e.g. pd.read_csv)\n",
        "\n",
        "from sklearn.preprocessing import StandardScaler\n",
        "from sklearn.preprocessing import OneHotEncoder\n",
        "from sklearn.preprocessing import OrdinalEncoder\n",
        "from sklearn.preprocessing import LabelEncoder"
      ]
    },
    {
      "cell_type": "markdown",
      "source": [
        "# **Data pre-processing**"
      ],
      "metadata": {
        "id": "e7OEKA2mKl01"
      }
    },
    {
      "cell_type": "code",
      "execution_count": 6,
      "metadata": {
        "colab": {
          "base_uri": "https://localhost:8080/",
          "height": 206
        },
        "id": "ts_yaLPOaRa6",
        "outputId": "c5952044-a39d-4761-ccf5-bc98474caa6a"
      },
      "outputs": [
        {
          "output_type": "execute_result",
          "data": {
            "text/plain": [
              "   Cust_id id_purchase              CAT I              CAT II  \\\n",
              "0   153926  5774DZ8526  Accessoire femmes                Sacs   \n",
              "1   153929  4224DZ8573  Accessoire femmes  Lunettes de soleil   \n",
              "2   153935  7178DZ8657  Accessoire femmes  Lunettes de soleil   \n",
              "3   153935  3598DZ8583  Accessoire femmes  Lunettes de soleil   \n",
              "4   153950  5142DZ8612  Accessoire femmes                Sacs   \n",
              "\n",
              "   revenue ( $ Algérien) city platform  gender  Order date  month  \n",
              "0                55251.0    A      Web    male  2022-07-19      7  \n",
              "1               444479.0    A      Web    male  2022-07-19      7  \n",
              "2               242911.0    A      Web  female  2022-07-19      7  \n",
              "3               267374.0    A      Web  female  2022-07-20      7  \n",
              "4               102590.0    A      Web  female  2022-07-19      7  "
            ],
            "text/html": [
              "\n",
              "  <div id=\"df-d7c216f4-f7d5-4a6a-88d8-22cb9ddcca39\">\n",
              "    <div class=\"colab-df-container\">\n",
              "      <div>\n",
              "<style scoped>\n",
              "    .dataframe tbody tr th:only-of-type {\n",
              "        vertical-align: middle;\n",
              "    }\n",
              "\n",
              "    .dataframe tbody tr th {\n",
              "        vertical-align: top;\n",
              "    }\n",
              "\n",
              "    .dataframe thead th {\n",
              "        text-align: right;\n",
              "    }\n",
              "</style>\n",
              "<table border=\"1\" class=\"dataframe\">\n",
              "  <thead>\n",
              "    <tr style=\"text-align: right;\">\n",
              "      <th></th>\n",
              "      <th>Cust_id</th>\n",
              "      <th>id_purchase</th>\n",
              "      <th>CAT I</th>\n",
              "      <th>CAT II</th>\n",
              "      <th>revenue ( $ Algérien)</th>\n",
              "      <th>city</th>\n",
              "      <th>platform</th>\n",
              "      <th>gender</th>\n",
              "      <th>Order date</th>\n",
              "      <th>month</th>\n",
              "    </tr>\n",
              "  </thead>\n",
              "  <tbody>\n",
              "    <tr>\n",
              "      <th>0</th>\n",
              "      <td>153926</td>\n",
              "      <td>5774DZ8526</td>\n",
              "      <td>Accessoire femmes</td>\n",
              "      <td>Sacs</td>\n",
              "      <td>55251.0</td>\n",
              "      <td>A</td>\n",
              "      <td>Web</td>\n",
              "      <td>male</td>\n",
              "      <td>2022-07-19</td>\n",
              "      <td>7</td>\n",
              "    </tr>\n",
              "    <tr>\n",
              "      <th>1</th>\n",
              "      <td>153929</td>\n",
              "      <td>4224DZ8573</td>\n",
              "      <td>Accessoire femmes</td>\n",
              "      <td>Lunettes de soleil</td>\n",
              "      <td>444479.0</td>\n",
              "      <td>A</td>\n",
              "      <td>Web</td>\n",
              "      <td>male</td>\n",
              "      <td>2022-07-19</td>\n",
              "      <td>7</td>\n",
              "    </tr>\n",
              "    <tr>\n",
              "      <th>2</th>\n",
              "      <td>153935</td>\n",
              "      <td>7178DZ8657</td>\n",
              "      <td>Accessoire femmes</td>\n",
              "      <td>Lunettes de soleil</td>\n",
              "      <td>242911.0</td>\n",
              "      <td>A</td>\n",
              "      <td>Web</td>\n",
              "      <td>female</td>\n",
              "      <td>2022-07-19</td>\n",
              "      <td>7</td>\n",
              "    </tr>\n",
              "    <tr>\n",
              "      <th>3</th>\n",
              "      <td>153935</td>\n",
              "      <td>3598DZ8583</td>\n",
              "      <td>Accessoire femmes</td>\n",
              "      <td>Lunettes de soleil</td>\n",
              "      <td>267374.0</td>\n",
              "      <td>A</td>\n",
              "      <td>Web</td>\n",
              "      <td>female</td>\n",
              "      <td>2022-07-20</td>\n",
              "      <td>7</td>\n",
              "    </tr>\n",
              "    <tr>\n",
              "      <th>4</th>\n",
              "      <td>153950</td>\n",
              "      <td>5142DZ8612</td>\n",
              "      <td>Accessoire femmes</td>\n",
              "      <td>Sacs</td>\n",
              "      <td>102590.0</td>\n",
              "      <td>A</td>\n",
              "      <td>Web</td>\n",
              "      <td>female</td>\n",
              "      <td>2022-07-19</td>\n",
              "      <td>7</td>\n",
              "    </tr>\n",
              "  </tbody>\n",
              "</table>\n",
              "</div>\n",
              "      <button class=\"colab-df-convert\" onclick=\"convertToInteractive('df-d7c216f4-f7d5-4a6a-88d8-22cb9ddcca39')\"\n",
              "              title=\"Convert this dataframe to an interactive table.\"\n",
              "              style=\"display:none;\">\n",
              "        \n",
              "  <svg xmlns=\"http://www.w3.org/2000/svg\" height=\"24px\"viewBox=\"0 0 24 24\"\n",
              "       width=\"24px\">\n",
              "    <path d=\"M0 0h24v24H0V0z\" fill=\"none\"/>\n",
              "    <path d=\"M18.56 5.44l.94 2.06.94-2.06 2.06-.94-2.06-.94-.94-2.06-.94 2.06-2.06.94zm-11 1L8.5 8.5l.94-2.06 2.06-.94-2.06-.94L8.5 2.5l-.94 2.06-2.06.94zm10 10l.94 2.06.94-2.06 2.06-.94-2.06-.94-.94-2.06-.94 2.06-2.06.94z\"/><path d=\"M17.41 7.96l-1.37-1.37c-.4-.4-.92-.59-1.43-.59-.52 0-1.04.2-1.43.59L10.3 9.45l-7.72 7.72c-.78.78-.78 2.05 0 2.83L4 21.41c.39.39.9.59 1.41.59.51 0 1.02-.2 1.41-.59l7.78-7.78 2.81-2.81c.8-.78.8-2.07 0-2.86zM5.41 20L4 18.59l7.72-7.72 1.47 1.35L5.41 20z\"/>\n",
              "  </svg>\n",
              "      </button>\n",
              "      \n",
              "  <style>\n",
              "    .colab-df-container {\n",
              "      display:flex;\n",
              "      flex-wrap:wrap;\n",
              "      gap: 12px;\n",
              "    }\n",
              "\n",
              "    .colab-df-convert {\n",
              "      background-color: #E8F0FE;\n",
              "      border: none;\n",
              "      border-radius: 50%;\n",
              "      cursor: pointer;\n",
              "      display: none;\n",
              "      fill: #1967D2;\n",
              "      height: 32px;\n",
              "      padding: 0 0 0 0;\n",
              "      width: 32px;\n",
              "    }\n",
              "\n",
              "    .colab-df-convert:hover {\n",
              "      background-color: #E2EBFA;\n",
              "      box-shadow: 0px 1px 2px rgba(60, 64, 67, 0.3), 0px 1px 3px 1px rgba(60, 64, 67, 0.15);\n",
              "      fill: #174EA6;\n",
              "    }\n",
              "\n",
              "    [theme=dark] .colab-df-convert {\n",
              "      background-color: #3B4455;\n",
              "      fill: #D2E3FC;\n",
              "    }\n",
              "\n",
              "    [theme=dark] .colab-df-convert:hover {\n",
              "      background-color: #434B5C;\n",
              "      box-shadow: 0px 1px 3px 1px rgba(0, 0, 0, 0.15);\n",
              "      filter: drop-shadow(0px 1px 2px rgba(0, 0, 0, 0.3));\n",
              "      fill: #FFFFFF;\n",
              "    }\n",
              "  </style>\n",
              "\n",
              "      <script>\n",
              "        const buttonEl =\n",
              "          document.querySelector('#df-d7c216f4-f7d5-4a6a-88d8-22cb9ddcca39 button.colab-df-convert');\n",
              "        buttonEl.style.display =\n",
              "          google.colab.kernel.accessAllowed ? 'block' : 'none';\n",
              "\n",
              "        async function convertToInteractive(key) {\n",
              "          const element = document.querySelector('#df-d7c216f4-f7d5-4a6a-88d8-22cb9ddcca39');\n",
              "          const dataTable =\n",
              "            await google.colab.kernel.invokeFunction('convertToInteractive',\n",
              "                                                     [key], {});\n",
              "          if (!dataTable) return;\n",
              "\n",
              "          const docLinkHtml = 'Like what you see? Visit the ' +\n",
              "            '<a target=\"_blank\" href=https://colab.research.google.com/notebooks/data_table.ipynb>data table notebook</a>'\n",
              "            + ' to learn more about interactive tables.';\n",
              "          element.innerHTML = '';\n",
              "          dataTable['output_type'] = 'display_data';\n",
              "          await google.colab.output.renderOutput(dataTable, element);\n",
              "          const docLink = document.createElement('div');\n",
              "          docLink.innerHTML = docLinkHtml;\n",
              "          element.appendChild(docLink);\n",
              "        }\n",
              "      </script>\n",
              "    </div>\n",
              "  </div>\n",
              "  "
            ]
          },
          "metadata": {},
          "execution_count": 6
        }
      ],
      "source": [
        "train_df = pd.read_csv(\"/content/jum_train.csv\")\n",
        "test_df = pd.read_csv(\"/content/jum_test.csv\")\n",
        "train_df.head()\n"
      ]
    },
    {
      "cell_type": "markdown",
      "source": [
        "## **Feature engineering**"
      ],
      "metadata": {
        "id": "66y5-RBjLPSx"
      }
    },
    {
      "cell_type": "code",
      "source": [
        "#encoding CAT II\n",
        "\n",
        "cols = train_df[\"CAT II\"].unique()\n",
        "for item in cols:\n",
        "  if not item in test_df[\"CAT II\"].unique():\n",
        "    print(item)\n",
        "\n",
        "\n",
        "for item in train_df[\"CAT II\"].unique():\n",
        "  if not item in test_df[\"CAT II\"].unique():\n",
        "    test_df.loc[len(test_df)] = [15403\t,'8904DZ8715'\t,\"Accessoire femmes\" ,\t item\t, 273851.0,\t\"A\",\t\"Web\",\t\"male\"\t, \"2022-07-21\", 7\t]\n",
        "  \n",
        "\n",
        "for item in train_df[\"CAT I\"].unique():\n",
        "  if not item in test_df[\"CAT I\"].unique():\n",
        "    print(item)    \n",
        "\n",
        "\n",
        "for item in train_df[\"CAT I\"].unique():\n",
        "  if not item in test_df[\"CAT I\"].unique():\n",
        "      test_df.loc[len(test_df)] = [15403\t,'8904DZ8715'\t, item ,\t\"Lunettes de soleil\"\t, 273851.0,\t\"A\",\t\"Web\",\t\"male\"\t, \"2022-07-21\", 7\t]"
      ],
      "metadata": {
        "id": "yGSgJBuv-wBy"
      },
      "execution_count": 7,
      "outputs": []
    },
    {
      "cell_type": "code",
      "source": [
        "#perform one-hot encoding on 'CAT II' column \n",
        "\n",
        "\n",
        "#creating instance of one-hot-encoder\n",
        "oh_cat1 = OneHotEncoder(handle_unknown='ignore')\n",
        "\n",
        "oh_cat1.fit(train_df[['CAT II']])\n",
        "encoded = oh_cat1.transform(train_df[['CAT II']]).toarray()\n",
        "columns = oh_cat1.get_feature_names([''])\n",
        "encoder_df = pd.DataFrame(encoded,columns=columns)\n",
        "train_df = train_df.join(encoder_df)\n",
        "train_df.drop(['CAT II'], axis=1, inplace=True)\n",
        "train_df.head()\n",
        "\n",
        "#test\n",
        "encoded = oh_cat1.transform(test_df[['CAT II']]).toarray()\n",
        "encoder_df = pd.DataFrame(encoded,columns=columns)\n",
        "test_df = test_df.join(encoder_df)\n",
        "test_df.drop(['CAT II'], axis=1, inplace=True)\n",
        "test_df.head()"
      ],
      "metadata": {
        "id": "2E412mjA0ctA"
      },
      "execution_count": null,
      "outputs": []
    },
    {
      "cell_type": "code",
      "source": [
        "#dropping CAT I\n",
        "train_df.drop(columns={'CAT I'}, inplace=True)\n",
        "test_df.drop(columns={'CAT I'}, inplace=True)"
      ],
      "metadata": {
        "id": "J3NdC5GO4vpB"
      },
      "execution_count": 14,
      "outputs": []
    },
    {
      "cell_type": "code",
      "execution_count": 15,
      "metadata": {
        "id": "8--2KEkmaRa7"
      },
      "outputs": [],
      "source": [
        "#renaming revenue\n",
        "train_df.rename(columns={\"revenue ( $ Algérien)\": \"revenue\"}, inplace=True)\n",
        "test_df.rename(columns={\"revenue ( $ Algérien)\": \"revenue\"}, inplace=True)\n",
        "\n",
        "#standardization revenue\n",
        "train_df[\"revenue\"] =( train_df[\"revenue\"] - train_df[\"revenue\"].mean() ) / train_df[\"revenue\"].std()\n",
        "test_df[\"revenue\"] =( test_df[\"revenue\"] - test_df[\"revenue\"].mean() ) / test_df[\"revenue\"].std()\n"
      ]
    },
    {
      "cell_type": "code",
      "source": [
        "#label encoding other features \n",
        "\n",
        "\n",
        "le = LabelEncoder()\n",
        "#train\n",
        "le.fit(train_df['platform'])\n",
        "cat_enc = le.transform(train_df[\"platform\"])\n",
        "train_df[\"platform\"] = cat_enc\n",
        "\n",
        "#test\n",
        "cat_enc = le.transform(test_df[\"platform\"])\n",
        "test_df[\"platform\"] = cat_enc\n",
        "test_df\n",
        "\n",
        "\n",
        "ord_enc_gender = LabelEncoder()\n",
        "#train\n",
        "ord_enc_gender.fit(train_df[\"gender\"].unique())\n",
        "cat_enc = ord_enc_gender.transform(train_df[\"gender\"])\n",
        "train_df[\"gender\"] = cat_enc\n",
        "#test\n",
        "cat_enc = ord_enc_gender.transform(test_df[\"gender\"])\n",
        "test_df[\"gender\"] = cat_enc\n",
        "test_df\n",
        "\n",
        "\n",
        "\n",
        "ord_enc_city = LabelEncoder()\n",
        "#train\n",
        "ord_enc_city.fit(train_df[\"city\"].unique())\n",
        "cat_enc = ord_enc_city.transform(train_df[\"city\"])\n",
        "train_df[\"city\"] = cat_enc\n",
        "#test\n",
        "cat_enc = ord_enc_city.transform(test_df[\"city\"])\n",
        "test_df[\"city\"] = cat_enc\n",
        "test_df\n"
      ],
      "metadata": {
        "id": "JeiQaHw0geba"
      },
      "execution_count": null,
      "outputs": []
    },
    {
      "cell_type": "code",
      "execution_count": 17,
      "metadata": {
        "id": "pQjVyXf8dSMW"
      },
      "outputs": [],
      "source": [
        "#dropping useless columns\n",
        "train_df.drop(['Order date'], axis=1, inplace=True)\n",
        "train_df.drop(['id_purchase'], axis=1, inplace=True)\n",
        "# train_df.drop(['platform'], axis=1, inplace=True)\n",
        "\n",
        "test_df.drop(['Order date'], axis=1, inplace=True)\n",
        "test_df.drop(['id_purchase'], axis=1, inplace=True)\n",
        "# test_df.drop(['platform'], axis=1, inplace=True)\n"
      ]
    },
    {
      "cell_type": "code",
      "source": [
        "#remapping months\n",
        "map_dict = {7:1 , 8:2, 9:3, 10:4, 11:5, 12:6 , 1:7}\n",
        "train_df[\"month\"] = train_df[\"month\"].map(map_dict)\n",
        "test_df[\"month\"] = test_df[\"month\"].map(map_dict)"
      ],
      "metadata": {
        "id": "PBrwyZE328D3"
      },
      "execution_count": 22,
      "outputs": []
    },
    {
      "cell_type": "code",
      "execution_count": 21,
      "metadata": {
        "id": "3mOXHkdqkVtb"
      },
      "outputs": [],
      "source": [
        "test_df= test_df.drop(test_df.tail(7).index)"
      ]
    },
    {
      "cell_type": "markdown",
      "source": [
        "## **Grouping data**"
      ],
      "metadata": {
        "id": "cAjej2Xi0eo_"
      }
    },
    {
      "cell_type": "code",
      "source": [
        "# treating the platform frequency \n",
        "#this function replaces the column platform in df with the most frequent pplatform for a given customer \n",
        "def replace_platform(df):\n",
        "    for id in df['Cust_id'].unique():\n",
        "        cust_df = df[df['Cust_id'] == id]\n",
        "        most_common_platform = cust_df['platform'].mode()[0]\n",
        "        df.loc[df['Cust_id'] == id, 'platform'] = most_common_platform\n",
        "    return df\n",
        "\n",
        "test_df = replace_platform(test_df)\n",
        "train_df = replace_platform(train_df)"
      ],
      "metadata": {
        "id": "ylXJk3Oe4w15"
      },
      "execution_count": 23,
      "outputs": []
    },
    {
      "cell_type": "code",
      "source": [
        "# treating the city frequency \n",
        "#this function replaces the column city in df with the most frequent city for a given customer \n",
        "def replace_city(df):\n",
        "    for id in df['Cust_id'].unique():\n",
        "        cust_df = df[df['Cust_id'] == id]\n",
        "        most_common_city = cust_df['city'].mode()[0]\n",
        "        df.loc[df['Cust_id'] == id, 'city'] = most_common_city\n",
        "    return df\n",
        "\n",
        "test_df = replace_city(test_df)\n",
        "train_df = replace_city(train_df)"
      ],
      "metadata": {
        "id": "Vi0n93VP0wuP"
      },
      "execution_count": 24,
      "outputs": []
    },
    {
      "cell_type": "code",
      "source": [
        "#grouping\n",
        "train_sum = train_df.groupby('Cust_id',as_index=False).max()\n",
        "test_sum = test_df.groupby('Cust_id',as_index=False).max()"
      ],
      "metadata": {
        "id": "IzMfISjc0i8g"
      },
      "execution_count": 25,
      "outputs": []
    },
    {
      "cell_type": "code",
      "source": [
        "#dealing with conflicts after grouping\n",
        "#train\n",
        "\n",
        "avg_revenue_ = train_df.groupby(['Cust_id'],as_index=False)[['revenue']].mean()\n",
        "max_gender_ = train_df.groupby(['Cust_id'],as_index=False)[['gender']].max()\n",
        "max_city_ = train_df.groupby(['Cust_id'],as_index=False)[['city']].max()\n",
        "max_cust_id_ = train_df.groupby(['Cust_id'],as_index=False)[['Cust_id']].max()\n",
        "max_platform= train_df.groupby(['Cust_id'],as_index=False)[['platform']].max()\n",
        "max_month = train_df.groupby(['Cust_id'],as_index=False)[['month']].max()\n",
        "\n",
        "\n",
        "train_sum[\"revenue\"] = avg_revenue_[\"revenue\"]\n",
        "train_sum[\"gender\"] = max_gender_[\"gender\"]\n",
        "train_sum[\"Cust_id\"] = max_cust_id_[\"Cust_id\"]\n",
        "train_sum[\"city\"] = max_city_[\"city\"]\n",
        "train_sum[\"platform\"]= max_platform[\"platform\"]\n",
        "train_sum[\"month\"]= max_month[\"month\"]\n",
        "\n",
        "#test\n",
        "avg_revenue = test_df.groupby(['Cust_id'],as_index=False)[['revenue']].mean()\n",
        "max_gender= test_df.groupby(['Cust_id'],as_index=False)[['gender']].max()\n",
        "max_city= test_df.groupby(['Cust_id'],as_index=False)[['city']].max()\n",
        "max_cust_id= test_df.groupby(['Cust_id'],as_index=False)[['Cust_id']].max()\n",
        "max_platform = test_df.groupby(['Cust_id'],as_index=False)[['platform']].max()\n",
        "max_month = test_df.groupby(['Cust_id'],as_index=False)[['month']].max()\n",
        "\n",
        "test_sum[\"revenue\"] = avg_revenue[\"revenue\"]\n",
        "test_sum[\"gender\"] = max_gender[\"gender\"]\n",
        "test_sum[\"Cust_id\"] = max_cust_id[\"Cust_id\"]\n",
        "test_sum[\"city\"] = max_city[\"city\"]\n",
        "test_sum[\"platform\"]= max_platform[\"platform\"]\n",
        "test_sum[\"month\"]= max_month[\"month\"]"
      ],
      "metadata": {
        "id": "3wGpnhGG09XQ"
      },
      "execution_count": 26,
      "outputs": []
    },
    {
      "cell_type": "code",
      "source": [
        "#data augmentation\n",
        "train_sum= pd.concat([train_sum, test_sum])\n",
        "train_sum"
      ],
      "metadata": {
        "id": "OoLd3EASPi5O"
      },
      "execution_count": null,
      "outputs": []
    },
    {
      "cell_type": "markdown",
      "source": [
        "# **Training**"
      ],
      "metadata": {
        "id": "MRQHwJ30Lw65"
      }
    },
    {
      "cell_type": "code",
      "source": [
        "X_test = test_sum.iloc[:, :6]\n",
        "X_test"
      ],
      "metadata": {
        "id": "ScQhOb0c5b2w"
      },
      "execution_count": null,
      "outputs": []
    },
    {
      "cell_type": "code",
      "source": [
        "X = train_sum.iloc[:, 1:6]\n",
        "Y = train_sum.iloc[:, 6:]\n",
        "list(Y.values)"
      ],
      "metadata": {
        "id": "SGREnJKM7EDE"
      },
      "execution_count": null,
      "outputs": []
    },
    {
      "cell_type": "code",
      "source": [
        "Y = np.array([ list(y) for y in Y.values ])"
      ],
      "metadata": {
        "id": "1hynAY1LAu0i"
      },
      "execution_count": 29,
      "outputs": []
    },
    {
      "cell_type": "code",
      "source": [
        "# Import necessary libraries\n",
        "import numpy as np\n",
        "import pandas as pd\n",
        "from sklearn.model_selection import train_test_split\n",
        "from sklearn.multiclass import OneVsRestClassifier\n",
        "from sklearn.ensemble import RandomForestClassifier\n",
        "from sklearn.metrics import accuracy_score, f1_score, roc_auc_score\n",
        "\n",
        "\n",
        "\n",
        "# Split data into training and testing sets\n",
        "X_train, X_val, Y_train, Y_val = train_test_split(X, Y, test_size=0.2, random_state=42)\n",
        "\n",
        "\n",
        "# Create and train a Random Forest classifier using OneVsRestClassifier\n",
        "rfc = OneVsRestClassifier(RandomForestClassifier(n_estimators=400))\n",
        "rfc.fit(X_train, Y_train)\n",
        "\n",
        "# Make predictions on the test set\n",
        "Y_pred = rfc.predict(X_val)\n",
        "\n",
        "# Evaluate the model using accuracy, F1-score, and AUROC metrics\n",
        "print(\"Accuracy:\", accuracy_score(Y_val, Y_pred))\n",
        "print(\"F1-score:\", f1_score(Y_val, Y_pred, average='micro'))\n",
        "print(\"AUROC:\", roc_auc_score(Y_val, Y_pred, average='micro'))\n"
      ],
      "metadata": {
        "id": "i5XDhIgJ8eOE"
      },
      "execution_count": 30,
      "outputs": []
    },
    {
      "cell_type": "code",
      "source": [
        "Y_pred = rfc.predict(X_test.iloc[:,1:])"
      ],
      "metadata": {
        "id": "ZHIQ6HWe--UV"
      },
      "execution_count": null,
      "outputs": []
    },
    {
      "cell_type": "markdown",
      "metadata": {
        "id": "zgINXt6Ukbse"
      },
      "source": [
        "## **Sample pre-processing** "
      ]
    },
    {
      "cell_type": "code",
      "execution_count": null,
      "metadata": {
        "id": "wXxMoyAYk8X-"
      },
      "outputs": [],
      "source": [
        "sample_df = pd.read_csv(\"/content/sample_submission.csv\")\n",
        "# sample_df.rename(columns={\"id\":\"Cust_id\"}, inplace = True)\n",
        "sample_df.drop(['cat' ], axis=1, inplace=True)\n",
        "sample_df[['Cust_id', 'CAT II']] = sample_df['id'].str.split('_', expand=True)\n",
        "sample_df['Cust_id'] = sample_df['Cust_id'].astype(int)\n",
        "sample_df.drop(columns={\"id\"},inplace=True)\n"
      ]
    },
    {
      "cell_type": "code",
      "source": [
        "sample_df"
      ],
      "metadata": {
        "id": "D2MnwEe9CRfE",
        "outputId": "c1a8237e-1749-473b-b877-f08a1f46b010",
        "colab": {
          "base_uri": "https://localhost:8080/",
          "height": 423
        }
      },
      "execution_count": null,
      "outputs": [
        {
          "output_type": "execute_result",
          "data": {
            "text/plain": [
              "      Cust_id                         CAT II\n",
              "0      209886                    Carrosserie\n",
              "1      318591                           Sacs\n",
              "2      220722                          Polos\n",
              "3      320001            Outils de nettoyage\n",
              "4      275099                         Talons\n",
              "...       ...                            ...\n",
              "2834   174894   Livres en langues étrangères\n",
              "2835   290273  Grils et cuisine en plein air\n",
              "2836   269582            Chaussures de sport\n",
              "2837   323819                         Couche\n",
              "2838   155261             Lunettes de soleil\n",
              "\n",
              "[2839 rows x 2 columns]"
            ],
            "text/html": [
              "\n",
              "  <div id=\"df-d8a32b6e-9136-4057-a6d9-6f8cac3613c5\">\n",
              "    <div class=\"colab-df-container\">\n",
              "      <div>\n",
              "<style scoped>\n",
              "    .dataframe tbody tr th:only-of-type {\n",
              "        vertical-align: middle;\n",
              "    }\n",
              "\n",
              "    .dataframe tbody tr th {\n",
              "        vertical-align: top;\n",
              "    }\n",
              "\n",
              "    .dataframe thead th {\n",
              "        text-align: right;\n",
              "    }\n",
              "</style>\n",
              "<table border=\"1\" class=\"dataframe\">\n",
              "  <thead>\n",
              "    <tr style=\"text-align: right;\">\n",
              "      <th></th>\n",
              "      <th>Cust_id</th>\n",
              "      <th>CAT II</th>\n",
              "    </tr>\n",
              "  </thead>\n",
              "  <tbody>\n",
              "    <tr>\n",
              "      <th>0</th>\n",
              "      <td>209886</td>\n",
              "      <td>Carrosserie</td>\n",
              "    </tr>\n",
              "    <tr>\n",
              "      <th>1</th>\n",
              "      <td>318591</td>\n",
              "      <td>Sacs</td>\n",
              "    </tr>\n",
              "    <tr>\n",
              "      <th>2</th>\n",
              "      <td>220722</td>\n",
              "      <td>Polos</td>\n",
              "    </tr>\n",
              "    <tr>\n",
              "      <th>3</th>\n",
              "      <td>320001</td>\n",
              "      <td>Outils de nettoyage</td>\n",
              "    </tr>\n",
              "    <tr>\n",
              "      <th>4</th>\n",
              "      <td>275099</td>\n",
              "      <td>Talons</td>\n",
              "    </tr>\n",
              "    <tr>\n",
              "      <th>...</th>\n",
              "      <td>...</td>\n",
              "      <td>...</td>\n",
              "    </tr>\n",
              "    <tr>\n",
              "      <th>2834</th>\n",
              "      <td>174894</td>\n",
              "      <td>Livres en langues étrangères</td>\n",
              "    </tr>\n",
              "    <tr>\n",
              "      <th>2835</th>\n",
              "      <td>290273</td>\n",
              "      <td>Grils et cuisine en plein air</td>\n",
              "    </tr>\n",
              "    <tr>\n",
              "      <th>2836</th>\n",
              "      <td>269582</td>\n",
              "      <td>Chaussures de sport</td>\n",
              "    </tr>\n",
              "    <tr>\n",
              "      <th>2837</th>\n",
              "      <td>323819</td>\n",
              "      <td>Couche</td>\n",
              "    </tr>\n",
              "    <tr>\n",
              "      <th>2838</th>\n",
              "      <td>155261</td>\n",
              "      <td>Lunettes de soleil</td>\n",
              "    </tr>\n",
              "  </tbody>\n",
              "</table>\n",
              "<p>2839 rows × 2 columns</p>\n",
              "</div>\n",
              "      <button class=\"colab-df-convert\" onclick=\"convertToInteractive('df-d8a32b6e-9136-4057-a6d9-6f8cac3613c5')\"\n",
              "              title=\"Convert this dataframe to an interactive table.\"\n",
              "              style=\"display:none;\">\n",
              "        \n",
              "  <svg xmlns=\"http://www.w3.org/2000/svg\" height=\"24px\"viewBox=\"0 0 24 24\"\n",
              "       width=\"24px\">\n",
              "    <path d=\"M0 0h24v24H0V0z\" fill=\"none\"/>\n",
              "    <path d=\"M18.56 5.44l.94 2.06.94-2.06 2.06-.94-2.06-.94-.94-2.06-.94 2.06-2.06.94zm-11 1L8.5 8.5l.94-2.06 2.06-.94-2.06-.94L8.5 2.5l-.94 2.06-2.06.94zm10 10l.94 2.06.94-2.06 2.06-.94-2.06-.94-.94-2.06-.94 2.06-2.06.94z\"/><path d=\"M17.41 7.96l-1.37-1.37c-.4-.4-.92-.59-1.43-.59-.52 0-1.04.2-1.43.59L10.3 9.45l-7.72 7.72c-.78.78-.78 2.05 0 2.83L4 21.41c.39.39.9.59 1.41.59.51 0 1.02-.2 1.41-.59l7.78-7.78 2.81-2.81c.8-.78.8-2.07 0-2.86zM5.41 20L4 18.59l7.72-7.72 1.47 1.35L5.41 20z\"/>\n",
              "  </svg>\n",
              "      </button>\n",
              "      \n",
              "  <style>\n",
              "    .colab-df-container {\n",
              "      display:flex;\n",
              "      flex-wrap:wrap;\n",
              "      gap: 12px;\n",
              "    }\n",
              "\n",
              "    .colab-df-convert {\n",
              "      background-color: #E8F0FE;\n",
              "      border: none;\n",
              "      border-radius: 50%;\n",
              "      cursor: pointer;\n",
              "      display: none;\n",
              "      fill: #1967D2;\n",
              "      height: 32px;\n",
              "      padding: 0 0 0 0;\n",
              "      width: 32px;\n",
              "    }\n",
              "\n",
              "    .colab-df-convert:hover {\n",
              "      background-color: #E2EBFA;\n",
              "      box-shadow: 0px 1px 2px rgba(60, 64, 67, 0.3), 0px 1px 3px 1px rgba(60, 64, 67, 0.15);\n",
              "      fill: #174EA6;\n",
              "    }\n",
              "\n",
              "    [theme=dark] .colab-df-convert {\n",
              "      background-color: #3B4455;\n",
              "      fill: #D2E3FC;\n",
              "    }\n",
              "\n",
              "    [theme=dark] .colab-df-convert:hover {\n",
              "      background-color: #434B5C;\n",
              "      box-shadow: 0px 1px 3px 1px rgba(0, 0, 0, 0.15);\n",
              "      filter: drop-shadow(0px 1px 2px rgba(0, 0, 0, 0.3));\n",
              "      fill: #FFFFFF;\n",
              "    }\n",
              "  </style>\n",
              "\n",
              "      <script>\n",
              "        const buttonEl =\n",
              "          document.querySelector('#df-d8a32b6e-9136-4057-a6d9-6f8cac3613c5 button.colab-df-convert');\n",
              "        buttonEl.style.display =\n",
              "          google.colab.kernel.accessAllowed ? 'block' : 'none';\n",
              "\n",
              "        async function convertToInteractive(key) {\n",
              "          const element = document.querySelector('#df-d8a32b6e-9136-4057-a6d9-6f8cac3613c5');\n",
              "          const dataTable =\n",
              "            await google.colab.kernel.invokeFunction('convertToInteractive',\n",
              "                                                     [key], {});\n",
              "          if (!dataTable) return;\n",
              "\n",
              "          const docLinkHtml = 'Like what you see? Visit the ' +\n",
              "            '<a target=\"_blank\" href=https://colab.research.google.com/notebooks/data_table.ipynb>data table notebook</a>'\n",
              "            + ' to learn more about interactive tables.';\n",
              "          element.innerHTML = '';\n",
              "          dataTable['output_type'] = 'display_data';\n",
              "          await google.colab.output.renderOutput(dataTable, element);\n",
              "          const docLink = document.createElement('div');\n",
              "          docLink.innerHTML = docLinkHtml;\n",
              "          element.appendChild(docLink);\n",
              "        }\n",
              "      </script>\n",
              "    </div>\n",
              "  </div>\n",
              "  "
            ]
          },
          "metadata": {},
          "execution_count": 116
        }
      ]
    },
    {
      "cell_type": "code",
      "source": [
        "\n",
        "output = []\n",
        "for i , row in sample_df.iterrows():\n",
        "   id = sample_df.loc[i]['Cust_id']\n",
        "   index = list(X_test['Cust_id']).index(id)\n",
        "   y = Y_pred[index]\n",
        "   category = categories.index(row['CAT II'])\n",
        "   if y[category] :\n",
        "     output.append(\"buy\")\n",
        "   else:\n",
        "     output.append(\"not buy\")\n",
        "\n",
        " "
      ],
      "metadata": {
        "id": "6LlYQOjJDRBj"
      },
      "execution_count": null,
      "outputs": []
    },
    {
      "cell_type": "code",
      "source": [
        "sample_df"
      ],
      "metadata": {
        "id": "QSXV48H0Fe2m",
        "outputId": "e6b565f2-9ec4-48c4-8245-a89f8271f64f",
        "colab": {
          "base_uri": "https://localhost:8080/",
          "height": 423
        }
      },
      "execution_count": null,
      "outputs": [
        {
          "output_type": "execute_result",
          "data": {
            "text/plain": [
              "      Cust_id                         CAT II\n",
              "0      209886                    Carrosserie\n",
              "1      318591                           Sacs\n",
              "2      220722                          Polos\n",
              "3      320001            Outils de nettoyage\n",
              "4      275099                         Talons\n",
              "...       ...                            ...\n",
              "2834   174894   Livres en langues étrangères\n",
              "2835   290273  Grils et cuisine en plein air\n",
              "2836   269582            Chaussures de sport\n",
              "2837   323819                         Couche\n",
              "2838   155261             Lunettes de soleil\n",
              "\n",
              "[2839 rows x 2 columns]"
            ],
            "text/html": [
              "\n",
              "  <div id=\"df-8d34ebbb-6883-4f57-8176-46bcf25886d1\">\n",
              "    <div class=\"colab-df-container\">\n",
              "      <div>\n",
              "<style scoped>\n",
              "    .dataframe tbody tr th:only-of-type {\n",
              "        vertical-align: middle;\n",
              "    }\n",
              "\n",
              "    .dataframe tbody tr th {\n",
              "        vertical-align: top;\n",
              "    }\n",
              "\n",
              "    .dataframe thead th {\n",
              "        text-align: right;\n",
              "    }\n",
              "</style>\n",
              "<table border=\"1\" class=\"dataframe\">\n",
              "  <thead>\n",
              "    <tr style=\"text-align: right;\">\n",
              "      <th></th>\n",
              "      <th>Cust_id</th>\n",
              "      <th>CAT II</th>\n",
              "    </tr>\n",
              "  </thead>\n",
              "  <tbody>\n",
              "    <tr>\n",
              "      <th>0</th>\n",
              "      <td>209886</td>\n",
              "      <td>Carrosserie</td>\n",
              "    </tr>\n",
              "    <tr>\n",
              "      <th>1</th>\n",
              "      <td>318591</td>\n",
              "      <td>Sacs</td>\n",
              "    </tr>\n",
              "    <tr>\n",
              "      <th>2</th>\n",
              "      <td>220722</td>\n",
              "      <td>Polos</td>\n",
              "    </tr>\n",
              "    <tr>\n",
              "      <th>3</th>\n",
              "      <td>320001</td>\n",
              "      <td>Outils de nettoyage</td>\n",
              "    </tr>\n",
              "    <tr>\n",
              "      <th>4</th>\n",
              "      <td>275099</td>\n",
              "      <td>Talons</td>\n",
              "    </tr>\n",
              "    <tr>\n",
              "      <th>...</th>\n",
              "      <td>...</td>\n",
              "      <td>...</td>\n",
              "    </tr>\n",
              "    <tr>\n",
              "      <th>2834</th>\n",
              "      <td>174894</td>\n",
              "      <td>Livres en langues étrangères</td>\n",
              "    </tr>\n",
              "    <tr>\n",
              "      <th>2835</th>\n",
              "      <td>290273</td>\n",
              "      <td>Grils et cuisine en plein air</td>\n",
              "    </tr>\n",
              "    <tr>\n",
              "      <th>2836</th>\n",
              "      <td>269582</td>\n",
              "      <td>Chaussures de sport</td>\n",
              "    </tr>\n",
              "    <tr>\n",
              "      <th>2837</th>\n",
              "      <td>323819</td>\n",
              "      <td>Couche</td>\n",
              "    </tr>\n",
              "    <tr>\n",
              "      <th>2838</th>\n",
              "      <td>155261</td>\n",
              "      <td>Lunettes de soleil</td>\n",
              "    </tr>\n",
              "  </tbody>\n",
              "</table>\n",
              "<p>2839 rows × 2 columns</p>\n",
              "</div>\n",
              "      <button class=\"colab-df-convert\" onclick=\"convertToInteractive('df-8d34ebbb-6883-4f57-8176-46bcf25886d1')\"\n",
              "              title=\"Convert this dataframe to an interactive table.\"\n",
              "              style=\"display:none;\">\n",
              "        \n",
              "  <svg xmlns=\"http://www.w3.org/2000/svg\" height=\"24px\"viewBox=\"0 0 24 24\"\n",
              "       width=\"24px\">\n",
              "    <path d=\"M0 0h24v24H0V0z\" fill=\"none\"/>\n",
              "    <path d=\"M18.56 5.44l.94 2.06.94-2.06 2.06-.94-2.06-.94-.94-2.06-.94 2.06-2.06.94zm-11 1L8.5 8.5l.94-2.06 2.06-.94-2.06-.94L8.5 2.5l-.94 2.06-2.06.94zm10 10l.94 2.06.94-2.06 2.06-.94-2.06-.94-.94-2.06-.94 2.06-2.06.94z\"/><path d=\"M17.41 7.96l-1.37-1.37c-.4-.4-.92-.59-1.43-.59-.52 0-1.04.2-1.43.59L10.3 9.45l-7.72 7.72c-.78.78-.78 2.05 0 2.83L4 21.41c.39.39.9.59 1.41.59.51 0 1.02-.2 1.41-.59l7.78-7.78 2.81-2.81c.8-.78.8-2.07 0-2.86zM5.41 20L4 18.59l7.72-7.72 1.47 1.35L5.41 20z\"/>\n",
              "  </svg>\n",
              "      </button>\n",
              "      \n",
              "  <style>\n",
              "    .colab-df-container {\n",
              "      display:flex;\n",
              "      flex-wrap:wrap;\n",
              "      gap: 12px;\n",
              "    }\n",
              "\n",
              "    .colab-df-convert {\n",
              "      background-color: #E8F0FE;\n",
              "      border: none;\n",
              "      border-radius: 50%;\n",
              "      cursor: pointer;\n",
              "      display: none;\n",
              "      fill: #1967D2;\n",
              "      height: 32px;\n",
              "      padding: 0 0 0 0;\n",
              "      width: 32px;\n",
              "    }\n",
              "\n",
              "    .colab-df-convert:hover {\n",
              "      background-color: #E2EBFA;\n",
              "      box-shadow: 0px 1px 2px rgba(60, 64, 67, 0.3), 0px 1px 3px 1px rgba(60, 64, 67, 0.15);\n",
              "      fill: #174EA6;\n",
              "    }\n",
              "\n",
              "    [theme=dark] .colab-df-convert {\n",
              "      background-color: #3B4455;\n",
              "      fill: #D2E3FC;\n",
              "    }\n",
              "\n",
              "    [theme=dark] .colab-df-convert:hover {\n",
              "      background-color: #434B5C;\n",
              "      box-shadow: 0px 1px 3px 1px rgba(0, 0, 0, 0.15);\n",
              "      filter: drop-shadow(0px 1px 2px rgba(0, 0, 0, 0.3));\n",
              "      fill: #FFFFFF;\n",
              "    }\n",
              "  </style>\n",
              "\n",
              "      <script>\n",
              "        const buttonEl =\n",
              "          document.querySelector('#df-8d34ebbb-6883-4f57-8176-46bcf25886d1 button.colab-df-convert');\n",
              "        buttonEl.style.display =\n",
              "          google.colab.kernel.accessAllowed ? 'block' : 'none';\n",
              "\n",
              "        async function convertToInteractive(key) {\n",
              "          const element = document.querySelector('#df-8d34ebbb-6883-4f57-8176-46bcf25886d1');\n",
              "          const dataTable =\n",
              "            await google.colab.kernel.invokeFunction('convertToInteractive',\n",
              "                                                     [key], {});\n",
              "          if (!dataTable) return;\n",
              "\n",
              "          const docLinkHtml = 'Like what you see? Visit the ' +\n",
              "            '<a target=\"_blank\" href=https://colab.research.google.com/notebooks/data_table.ipynb>data table notebook</a>'\n",
              "            + ' to learn more about interactive tables.';\n",
              "          element.innerHTML = '';\n",
              "          dataTable['output_type'] = 'display_data';\n",
              "          await google.colab.output.renderOutput(dataTable, element);\n",
              "          const docLink = document.createElement('div');\n",
              "          docLink.innerHTML = docLinkHtml;\n",
              "          element.appendChild(docLink);\n",
              "        }\n",
              "      </script>\n",
              "    </div>\n",
              "  </div>\n",
              "  "
            ]
          },
          "metadata": {},
          "execution_count": 135
        }
      ]
    },
    {
      "cell_type": "markdown",
      "metadata": {
        "id": "KC-3a_59GChy"
      },
      "source": [
        "# **Re-arranging submission sample**"
      ]
    },
    {
      "cell_type": "code",
      "execution_count": null,
      "metadata": {
        "id": "7Sutv5yrGChy"
      },
      "outputs": [],
      "source": [
        "sample_df['Cust_id'] = sample_df['Cust_id'].astype(str)+ '_' + sample_df['CAT II']\n"
      ]
    },
    {
      "cell_type": "code",
      "source": [
        "sample_df.rename(columns={'Cust_id': \"Id\"}, inplace=True)\n",
        "sample_df.drop(['CAT II'], axis=1, inplace=True)\n",
        "sample_df"
      ],
      "metadata": {
        "id": "iHxBxDGMGQZa",
        "outputId": "a4daf935-f431-4597-8cee-02a79b66ab5e",
        "colab": {
          "base_uri": "https://localhost:8080/",
          "height": 423
        }
      },
      "execution_count": null,
      "outputs": [
        {
          "output_type": "execute_result",
          "data": {
            "text/plain": [
              "                                        Id\n",
              "0                       209886_Carrosserie\n",
              "1                              318591_Sacs\n",
              "2                             220722_Polos\n",
              "3               320001_Outils de nettoyage\n",
              "4                            275099_Talons\n",
              "...                                    ...\n",
              "2834   174894_Livres en langues étrangères\n",
              "2835  290273_Grils et cuisine en plein air\n",
              "2836            269582_Chaussures de sport\n",
              "2837                         323819_Couche\n",
              "2838             155261_Lunettes de soleil\n",
              "\n",
              "[2839 rows x 1 columns]"
            ],
            "text/html": [
              "\n",
              "  <div id=\"df-d91f6df8-45fa-40d4-9838-b1ae74b7d546\">\n",
              "    <div class=\"colab-df-container\">\n",
              "      <div>\n",
              "<style scoped>\n",
              "    .dataframe tbody tr th:only-of-type {\n",
              "        vertical-align: middle;\n",
              "    }\n",
              "\n",
              "    .dataframe tbody tr th {\n",
              "        vertical-align: top;\n",
              "    }\n",
              "\n",
              "    .dataframe thead th {\n",
              "        text-align: right;\n",
              "    }\n",
              "</style>\n",
              "<table border=\"1\" class=\"dataframe\">\n",
              "  <thead>\n",
              "    <tr style=\"text-align: right;\">\n",
              "      <th></th>\n",
              "      <th>Id</th>\n",
              "    </tr>\n",
              "  </thead>\n",
              "  <tbody>\n",
              "    <tr>\n",
              "      <th>0</th>\n",
              "      <td>209886_Carrosserie</td>\n",
              "    </tr>\n",
              "    <tr>\n",
              "      <th>1</th>\n",
              "      <td>318591_Sacs</td>\n",
              "    </tr>\n",
              "    <tr>\n",
              "      <th>2</th>\n",
              "      <td>220722_Polos</td>\n",
              "    </tr>\n",
              "    <tr>\n",
              "      <th>3</th>\n",
              "      <td>320001_Outils de nettoyage</td>\n",
              "    </tr>\n",
              "    <tr>\n",
              "      <th>4</th>\n",
              "      <td>275099_Talons</td>\n",
              "    </tr>\n",
              "    <tr>\n",
              "      <th>...</th>\n",
              "      <td>...</td>\n",
              "    </tr>\n",
              "    <tr>\n",
              "      <th>2834</th>\n",
              "      <td>174894_Livres en langues étrangères</td>\n",
              "    </tr>\n",
              "    <tr>\n",
              "      <th>2835</th>\n",
              "      <td>290273_Grils et cuisine en plein air</td>\n",
              "    </tr>\n",
              "    <tr>\n",
              "      <th>2836</th>\n",
              "      <td>269582_Chaussures de sport</td>\n",
              "    </tr>\n",
              "    <tr>\n",
              "      <th>2837</th>\n",
              "      <td>323819_Couche</td>\n",
              "    </tr>\n",
              "    <tr>\n",
              "      <th>2838</th>\n",
              "      <td>155261_Lunettes de soleil</td>\n",
              "    </tr>\n",
              "  </tbody>\n",
              "</table>\n",
              "<p>2839 rows × 1 columns</p>\n",
              "</div>\n",
              "      <button class=\"colab-df-convert\" onclick=\"convertToInteractive('df-d91f6df8-45fa-40d4-9838-b1ae74b7d546')\"\n",
              "              title=\"Convert this dataframe to an interactive table.\"\n",
              "              style=\"display:none;\">\n",
              "        \n",
              "  <svg xmlns=\"http://www.w3.org/2000/svg\" height=\"24px\"viewBox=\"0 0 24 24\"\n",
              "       width=\"24px\">\n",
              "    <path d=\"M0 0h24v24H0V0z\" fill=\"none\"/>\n",
              "    <path d=\"M18.56 5.44l.94 2.06.94-2.06 2.06-.94-2.06-.94-.94-2.06-.94 2.06-2.06.94zm-11 1L8.5 8.5l.94-2.06 2.06-.94-2.06-.94L8.5 2.5l-.94 2.06-2.06.94zm10 10l.94 2.06.94-2.06 2.06-.94-2.06-.94-.94-2.06-.94 2.06-2.06.94z\"/><path d=\"M17.41 7.96l-1.37-1.37c-.4-.4-.92-.59-1.43-.59-.52 0-1.04.2-1.43.59L10.3 9.45l-7.72 7.72c-.78.78-.78 2.05 0 2.83L4 21.41c.39.39.9.59 1.41.59.51 0 1.02-.2 1.41-.59l7.78-7.78 2.81-2.81c.8-.78.8-2.07 0-2.86zM5.41 20L4 18.59l7.72-7.72 1.47 1.35L5.41 20z\"/>\n",
              "  </svg>\n",
              "      </button>\n",
              "      \n",
              "  <style>\n",
              "    .colab-df-container {\n",
              "      display:flex;\n",
              "      flex-wrap:wrap;\n",
              "      gap: 12px;\n",
              "    }\n",
              "\n",
              "    .colab-df-convert {\n",
              "      background-color: #E8F0FE;\n",
              "      border: none;\n",
              "      border-radius: 50%;\n",
              "      cursor: pointer;\n",
              "      display: none;\n",
              "      fill: #1967D2;\n",
              "      height: 32px;\n",
              "      padding: 0 0 0 0;\n",
              "      width: 32px;\n",
              "    }\n",
              "\n",
              "    .colab-df-convert:hover {\n",
              "      background-color: #E2EBFA;\n",
              "      box-shadow: 0px 1px 2px rgba(60, 64, 67, 0.3), 0px 1px 3px 1px rgba(60, 64, 67, 0.15);\n",
              "      fill: #174EA6;\n",
              "    }\n",
              "\n",
              "    [theme=dark] .colab-df-convert {\n",
              "      background-color: #3B4455;\n",
              "      fill: #D2E3FC;\n",
              "    }\n",
              "\n",
              "    [theme=dark] .colab-df-convert:hover {\n",
              "      background-color: #434B5C;\n",
              "      box-shadow: 0px 1px 3px 1px rgba(0, 0, 0, 0.15);\n",
              "      filter: drop-shadow(0px 1px 2px rgba(0, 0, 0, 0.3));\n",
              "      fill: #FFFFFF;\n",
              "    }\n",
              "  </style>\n",
              "\n",
              "      <script>\n",
              "        const buttonEl =\n",
              "          document.querySelector('#df-d91f6df8-45fa-40d4-9838-b1ae74b7d546 button.colab-df-convert');\n",
              "        buttonEl.style.display =\n",
              "          google.colab.kernel.accessAllowed ? 'block' : 'none';\n",
              "\n",
              "        async function convertToInteractive(key) {\n",
              "          const element = document.querySelector('#df-d91f6df8-45fa-40d4-9838-b1ae74b7d546');\n",
              "          const dataTable =\n",
              "            await google.colab.kernel.invokeFunction('convertToInteractive',\n",
              "                                                     [key], {});\n",
              "          if (!dataTable) return;\n",
              "\n",
              "          const docLinkHtml = 'Like what you see? Visit the ' +\n",
              "            '<a target=\"_blank\" href=https://colab.research.google.com/notebooks/data_table.ipynb>data table notebook</a>'\n",
              "            + ' to learn more about interactive tables.';\n",
              "          element.innerHTML = '';\n",
              "          dataTable['output_type'] = 'display_data';\n",
              "          await google.colab.output.renderOutput(dataTable, element);\n",
              "          const docLink = document.createElement('div');\n",
              "          docLink.innerHTML = docLinkHtml;\n",
              "          element.appendChild(docLink);\n",
              "        }\n",
              "      </script>\n",
              "    </div>\n",
              "  </div>\n",
              "  "
            ]
          },
          "metadata": {},
          "execution_count": 140
        }
      ]
    },
    {
      "cell_type": "code",
      "source": [
        "sample_df['cat'] = [i for i in output]\n",
        "sample_df"
      ],
      "metadata": {
        "id": "7HQ2_p6DGdy-",
        "outputId": "d7d89d2c-a916-420a-cc84-c35b0b7395cc",
        "colab": {
          "base_uri": "https://localhost:8080/",
          "height": 423
        }
      },
      "execution_count": null,
      "outputs": [
        {
          "output_type": "execute_result",
          "data": {
            "text/plain": [
              "                                        Id      cat\n",
              "0                       209886_Carrosserie  not buy\n",
              "1                              318591_Sacs  not buy\n",
              "2                             220722_Polos  not buy\n",
              "3               320001_Outils de nettoyage  not buy\n",
              "4                            275099_Talons  not buy\n",
              "...                                    ...      ...\n",
              "2834   174894_Livres en langues étrangères  not buy\n",
              "2835  290273_Grils et cuisine en plein air      buy\n",
              "2836            269582_Chaussures de sport  not buy\n",
              "2837                         323819_Couche      buy\n",
              "2838             155261_Lunettes de soleil  not buy\n",
              "\n",
              "[2839 rows x 2 columns]"
            ],
            "text/html": [
              "\n",
              "  <div id=\"df-d58a3cbc-ca32-4fe6-ac5c-ccfb7983ccef\">\n",
              "    <div class=\"colab-df-container\">\n",
              "      <div>\n",
              "<style scoped>\n",
              "    .dataframe tbody tr th:only-of-type {\n",
              "        vertical-align: middle;\n",
              "    }\n",
              "\n",
              "    .dataframe tbody tr th {\n",
              "        vertical-align: top;\n",
              "    }\n",
              "\n",
              "    .dataframe thead th {\n",
              "        text-align: right;\n",
              "    }\n",
              "</style>\n",
              "<table border=\"1\" class=\"dataframe\">\n",
              "  <thead>\n",
              "    <tr style=\"text-align: right;\">\n",
              "      <th></th>\n",
              "      <th>Id</th>\n",
              "      <th>cat</th>\n",
              "    </tr>\n",
              "  </thead>\n",
              "  <tbody>\n",
              "    <tr>\n",
              "      <th>0</th>\n",
              "      <td>209886_Carrosserie</td>\n",
              "      <td>not buy</td>\n",
              "    </tr>\n",
              "    <tr>\n",
              "      <th>1</th>\n",
              "      <td>318591_Sacs</td>\n",
              "      <td>not buy</td>\n",
              "    </tr>\n",
              "    <tr>\n",
              "      <th>2</th>\n",
              "      <td>220722_Polos</td>\n",
              "      <td>not buy</td>\n",
              "    </tr>\n",
              "    <tr>\n",
              "      <th>3</th>\n",
              "      <td>320001_Outils de nettoyage</td>\n",
              "      <td>not buy</td>\n",
              "    </tr>\n",
              "    <tr>\n",
              "      <th>4</th>\n",
              "      <td>275099_Talons</td>\n",
              "      <td>not buy</td>\n",
              "    </tr>\n",
              "    <tr>\n",
              "      <th>...</th>\n",
              "      <td>...</td>\n",
              "      <td>...</td>\n",
              "    </tr>\n",
              "    <tr>\n",
              "      <th>2834</th>\n",
              "      <td>174894_Livres en langues étrangères</td>\n",
              "      <td>not buy</td>\n",
              "    </tr>\n",
              "    <tr>\n",
              "      <th>2835</th>\n",
              "      <td>290273_Grils et cuisine en plein air</td>\n",
              "      <td>buy</td>\n",
              "    </tr>\n",
              "    <tr>\n",
              "      <th>2836</th>\n",
              "      <td>269582_Chaussures de sport</td>\n",
              "      <td>not buy</td>\n",
              "    </tr>\n",
              "    <tr>\n",
              "      <th>2837</th>\n",
              "      <td>323819_Couche</td>\n",
              "      <td>buy</td>\n",
              "    </tr>\n",
              "    <tr>\n",
              "      <th>2838</th>\n",
              "      <td>155261_Lunettes de soleil</td>\n",
              "      <td>not buy</td>\n",
              "    </tr>\n",
              "  </tbody>\n",
              "</table>\n",
              "<p>2839 rows × 2 columns</p>\n",
              "</div>\n",
              "      <button class=\"colab-df-convert\" onclick=\"convertToInteractive('df-d58a3cbc-ca32-4fe6-ac5c-ccfb7983ccef')\"\n",
              "              title=\"Convert this dataframe to an interactive table.\"\n",
              "              style=\"display:none;\">\n",
              "        \n",
              "  <svg xmlns=\"http://www.w3.org/2000/svg\" height=\"24px\"viewBox=\"0 0 24 24\"\n",
              "       width=\"24px\">\n",
              "    <path d=\"M0 0h24v24H0V0z\" fill=\"none\"/>\n",
              "    <path d=\"M18.56 5.44l.94 2.06.94-2.06 2.06-.94-2.06-.94-.94-2.06-.94 2.06-2.06.94zm-11 1L8.5 8.5l.94-2.06 2.06-.94-2.06-.94L8.5 2.5l-.94 2.06-2.06.94zm10 10l.94 2.06.94-2.06 2.06-.94-2.06-.94-.94-2.06-.94 2.06-2.06.94z\"/><path d=\"M17.41 7.96l-1.37-1.37c-.4-.4-.92-.59-1.43-.59-.52 0-1.04.2-1.43.59L10.3 9.45l-7.72 7.72c-.78.78-.78 2.05 0 2.83L4 21.41c.39.39.9.59 1.41.59.51 0 1.02-.2 1.41-.59l7.78-7.78 2.81-2.81c.8-.78.8-2.07 0-2.86zM5.41 20L4 18.59l7.72-7.72 1.47 1.35L5.41 20z\"/>\n",
              "  </svg>\n",
              "      </button>\n",
              "      \n",
              "  <style>\n",
              "    .colab-df-container {\n",
              "      display:flex;\n",
              "      flex-wrap:wrap;\n",
              "      gap: 12px;\n",
              "    }\n",
              "\n",
              "    .colab-df-convert {\n",
              "      background-color: #E8F0FE;\n",
              "      border: none;\n",
              "      border-radius: 50%;\n",
              "      cursor: pointer;\n",
              "      display: none;\n",
              "      fill: #1967D2;\n",
              "      height: 32px;\n",
              "      padding: 0 0 0 0;\n",
              "      width: 32px;\n",
              "    }\n",
              "\n",
              "    .colab-df-convert:hover {\n",
              "      background-color: #E2EBFA;\n",
              "      box-shadow: 0px 1px 2px rgba(60, 64, 67, 0.3), 0px 1px 3px 1px rgba(60, 64, 67, 0.15);\n",
              "      fill: #174EA6;\n",
              "    }\n",
              "\n",
              "    [theme=dark] .colab-df-convert {\n",
              "      background-color: #3B4455;\n",
              "      fill: #D2E3FC;\n",
              "    }\n",
              "\n",
              "    [theme=dark] .colab-df-convert:hover {\n",
              "      background-color: #434B5C;\n",
              "      box-shadow: 0px 1px 3px 1px rgba(0, 0, 0, 0.15);\n",
              "      filter: drop-shadow(0px 1px 2px rgba(0, 0, 0, 0.3));\n",
              "      fill: #FFFFFF;\n",
              "    }\n",
              "  </style>\n",
              "\n",
              "      <script>\n",
              "        const buttonEl =\n",
              "          document.querySelector('#df-d58a3cbc-ca32-4fe6-ac5c-ccfb7983ccef button.colab-df-convert');\n",
              "        buttonEl.style.display =\n",
              "          google.colab.kernel.accessAllowed ? 'block' : 'none';\n",
              "\n",
              "        async function convertToInteractive(key) {\n",
              "          const element = document.querySelector('#df-d58a3cbc-ca32-4fe6-ac5c-ccfb7983ccef');\n",
              "          const dataTable =\n",
              "            await google.colab.kernel.invokeFunction('convertToInteractive',\n",
              "                                                     [key], {});\n",
              "          if (!dataTable) return;\n",
              "\n",
              "          const docLinkHtml = 'Like what you see? Visit the ' +\n",
              "            '<a target=\"_blank\" href=https://colab.research.google.com/notebooks/data_table.ipynb>data table notebook</a>'\n",
              "            + ' to learn more about interactive tables.';\n",
              "          element.innerHTML = '';\n",
              "          dataTable['output_type'] = 'display_data';\n",
              "          await google.colab.output.renderOutput(dataTable, element);\n",
              "          const docLink = document.createElement('div');\n",
              "          docLink.innerHTML = docLinkHtml;\n",
              "          element.appendChild(docLink);\n",
              "        }\n",
              "      </script>\n",
              "    </div>\n",
              "  </div>\n",
              "  "
            ]
          },
          "metadata": {},
          "execution_count": 142
        }
      ]
    },
    {
      "cell_type": "code",
      "execution_count": null,
      "metadata": {
        "id": "NMLxrd7FGChz"
      },
      "outputs": [],
      "source": [
        "sample_df.to_csv('submission.csv', index=False)"
      ]
    }
  ],
  "metadata": {
    "colab": {
      "provenance": []
    },
    "kernelspec": {
      "display_name": "Python 3",
      "language": "python",
      "name": "python3"
    },
    "language_info": {
      "codemirror_mode": {
        "name": "ipython",
        "version": 3
      },
      "file_extension": ".py",
      "mimetype": "text/x-python",
      "name": "python",
      "nbconvert_exporter": "python",
      "pygments_lexer": "ipython3",
      "version": "3.7.12"
    }
  },
  "nbformat": 4,
  "nbformat_minor": 0
}